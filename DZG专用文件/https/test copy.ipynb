{
 "cells": [
  {
   "cell_type": "markdown",
   "metadata": {},
   "source": []
  },
  {
   "cell_type": "code",
   "execution_count": 7,
   "metadata": {},
   "outputs": [],
   "source": [
    "import requests "
   ]
  },
  {
   "cell_type": "code",
   "execution_count": 8,
   "metadata": {},
   "outputs": [],
   "source": [
    "\n",
    "header = {\n",
    "    \"user-agent\":\"Mozilla/5.0 (Windows NT 10.0; Win64; x64; rv:102.0) Gecko/20100101 Firefox/102.0\"}\n"
   ]
  },
  {
   "cell_type": "code",
   "execution_count": 9,
   "metadata": {},
   "outputs": [],
   "source": [
    "url = \"https://api.bbmang.me/verificationCode\""
   ]
  },
  {
   "cell_type": "code",
   "execution_count": 10,
   "metadata": {},
   "outputs": [
    {
     "data": {
      "text/plain": [
       "<Response [200]>"
      ]
     },
     "execution_count": 10,
     "metadata": {},
     "output_type": "execute_result"
    }
   ],
   "source": [
    "\n",
    "res = requests.get(url=url,headers=header)\n",
    "res"
   ]
  },
  {
   "cell_type": "code",
   "execution_count": 11,
   "metadata": {},
   "outputs": [
    {
     "data": {
      "text/plain": [
       "'{\"message\":\"验证码获取成功\",\"data\":{\"vid\":\"bd8b98b2-3d7e-45b8-b7ec-ee57538aa522\",\"imageBase64\":\"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\"}}'"
      ]
     },
     "execution_count": 11,
     "metadata": {},
     "output_type": "execute_result"
    }
   ],
   "source": [
    "res.text"
   ]
  },
  {
   "cell_type": "code",
   "execution_count": null,
   "metadata": {},
   "outputs": [],
   "source": []
  }
 ],
 "metadata": {
  "kernelspec": {
   "display_name": "Python 3.9.6 64-bit",
   "language": "python",
   "name": "python3"
  },
  "language_info": {
   "codemirror_mode": {
    "name": "ipython",
    "version": 3
   },
   "file_extension": ".py",
   "mimetype": "text/x-python",
   "name": "python",
   "nbconvert_exporter": "python",
   "pygments_lexer": "ipython3",
   "version": "3.9.6"
  },
  "orig_nbformat": 4,
  "vscode": {
   "interpreter": {
    "hash": "4cff3abf1678755e0069fd79299a535fe1940bcd71a6b01d9f4386710b2b163f"
   }
  }
 },
 "nbformat": 4,
 "nbformat_minor": 2
}
